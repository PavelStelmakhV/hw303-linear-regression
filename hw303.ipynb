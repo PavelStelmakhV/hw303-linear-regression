{
 "cells": [
  {
   "cell_type": "raw",
   "id": "0ae61267-95cd-4e39-ac92-4cdeee8b0d16",
   "metadata": {},
   "source": [
    "Домашнє завдання\n",
    "Дане домашнє завдання буде повністю пов'язане з лінійною регресією та її реалізацією. Отож розіб'ємо наше домашнє завдання на декілька частин:\n",
    "\n",
    "напишіть функцію гіпотези лінійної регресії у векторному вигляді;\n",
    "створіть функцію для обчислення функції втрат у векторному вигляді;\n",
    "реалізуйте один крок градієнтного спуску;\n",
    "знайдіть найкращі параметри 𝑤⃗w для датасету прогнозуючу ціну на будинок залежно від площі, кількості ванних кімнат та кількості спалень;\n",
    "знайдіть ці ж параметри за допомогою аналітичного рішення;\n",
    "порівняйте отримані результати.\n",
    "\n",
    "Дз повинно бути виконано у Jupyter Nootebook,(або Google Colab) і задеплоїне на Гітхаб у вигляді файлу .ipynb."
   ]
  },
  {
   "cell_type": "code",
   "execution_count": 1,
   "id": "511fd957-2494-42af-9e78-1b819a0d7eaa",
   "metadata": {},
   "outputs": [],
   "source": [
    "import numpy as np"
   ]
  },
  {
   "cell_type": "code",
   "execution_count": 2,
   "id": "a3fe1afa-a908-44ac-9461-0590739ebb56",
   "metadata": {},
   "outputs": [],
   "source": [
    "temp_y = np.array([4, 3, 4, 7])\n",
    "temp = np.array([[1, 2],[1, 3], [1, 4]])"
   ]
  },
  {
   "cell_type": "code",
   "execution_count": 3,
   "id": "d0ceee01-742c-4b64-a1d5-11102ab9256a",
   "metadata": {},
   "outputs": [],
   "source": [
    "X = np.array([[1, 2], [2, 3], [4, 5], [3, 6]])\n",
    "y = np.array([3, 4, 5, 6])\n",
    "bias = 0.5\n",
    "w = np.array([1, 1])"
   ]
  },
  {
   "cell_type": "code",
   "execution_count": 4,
   "id": "d4e4bfa8-e587-4fdb-85dd-f4384e58bad3",
   "metadata": {},
   "outputs": [
    {
     "data": {
      "text/plain": [
       "array([1. , 1. , 0.5])"
      ]
     },
     "execution_count": 4,
     "metadata": {},
     "output_type": "execute_result"
    }
   ],
   "source": [
    "w_b = np.hstack((w, bias))\n",
    "w_b"
   ]
  },
  {
   "cell_type": "code",
   "execution_count": 5,
   "id": "93c01830-94ba-4a50-97ef-258e06fe4dfe",
   "metadata": {},
   "outputs": [
    {
     "data": {
      "text/plain": [
       "array([[1, 2, 4, 3],\n",
       "       [2, 3, 5, 6]])"
      ]
     },
     "execution_count": 5,
     "metadata": {},
     "output_type": "execute_result"
    }
   ],
   "source": [
    "X.T"
   ]
  },
  {
   "cell_type": "code",
   "execution_count": 17,
   "id": "171a1967-742c-41b4-8e64-3549270a9d92",
   "metadata": {},
   "outputs": [],
   "source": [
    "def linear_regresion(X, w, bias):\n",
    "    \"\"\"\n",
    "    Function linear regression\n",
    "    X - array (nxm) - n objects, m parametrs\n",
    "    w - regression coefficients? m elements\n",
    "    bias - scalar\n",
    "    \n",
    "    return y_pred, n elements\n",
    "    \"\"\"\n",
    "    X_b = np.hstack((X, np.ones((X.shape[0], 1))))\n",
    "    w_b = np.hstack((w, bias))\n",
    "    return np.matmul(X_b, w_b)"
   ]
  },
  {
   "cell_type": "code",
   "execution_count": 18,
   "id": "4680b535-be7d-4752-9226-f7f40756a7fc",
   "metadata": {},
   "outputs": [
    {
     "data": {
      "text/plain": [
       "array([3.5, 5.5, 9.5, 9.5])"
      ]
     },
     "execution_count": 18,
     "metadata": {},
     "output_type": "execute_result"
    }
   ],
   "source": [
    "linear_regresion(X, w, bias)"
   ]
  },
  {
   "cell_type": "code",
   "execution_count": 11,
   "id": "9ac8c80d-7705-490c-962c-634e36f0333e",
   "metadata": {},
   "outputs": [],
   "source": [
    "def loss(y_pred, y):\n",
    "    \"\"\"\n",
    "    Loss function\n",
    "    return sum(y_pred*y_pred - y*y) / (n*2)\n",
    "    n - len(y)\n",
    "    \"\"\"\n",
    "    return np.sum(np.power(y_pred - y, 2)) / len(y) / 2\n",
    "        "
   ]
  },
  {
   "cell_type": "code",
   "execution_count": 2,
   "id": "685c6700-d910-40db-bc79-a72130d97ef5",
   "metadata": {},
   "outputs": [],
   "source": [
    "def analytic_solution(X, y):\n",
    "    \"\"\"\n",
    "    Function linear regression\n",
    "    X - array (nxm) - n objects, m parametrs\n",
    "\n",
    "    returns array m-features and bias\n",
    "    \"\"\"\n",
    "    \n",
    "    X_b = np.hstack((X, np.ones((X.shape[0], 1))))\n",
    "    w = np.matmul(np.linalg.inv(np.matmul(X_b.T, X_b)), np.matmul(X_b.T, y))\n",
    "    # w1 = np.linalg.inv(X_b.T @ X_b) @ X_b.T @ y\n",
    "    return w"
   ]
  },
  {
   "cell_type": "code",
   "execution_count": null,
   "id": "b50f328c-77fe-4554-91fa-3bda38fa48b6",
   "metadata": {},
   "outputs": [],
   "source": [
    "def gradient_descent(X, y, w, bias, learning_rate):\n",
    "    \"\"\"\n",
    "    PErfoms one step gradint descent\n",
    "    \"\"\"\n",
    "    m = len(y)\n",
    "    y_pred = linear_regresion(X, w, bias)\n",
    "    error = y_pred - y\n",
    "    gradient = np.matmul(X.T, error) / m\n",
    "    w = w - learning_rate * gradient\n",
    "    return w"
   ]
  },
  {
   "cell_type": "code",
   "execution_count": 9,
   "id": "7e089ce2-0939-4ba9-8ef7-d74273c037f9",
   "metadata": {},
   "outputs": [
    {
     "name": "stdout",
     "output_type": "stream",
     "text": [
      "Коэффициенты линейной регрессии: [-0.14285714  0.78571429  1.71428571]\n"
     ]
    }
   ],
   "source": [
    "    X = np.array([[1, 2], [2, 3], [4, 5], [3, 6]])\n",
    "    y = np.array([3, 4, 5, 6])\n",
    "    \n",
    "    # Выполнение линейной регрессии\n",
    "    theta = linear_regression(X, y)\n",
    "    print(\"Коэффициенты линейной регрессии:\", theta)"
   ]
  },
  {
   "cell_type": "code",
   "execution_count": 12,
   "id": "54cb8d13-40ff-4b07-bd47-7b87bce090a2",
   "metadata": {},
   "outputs": [
    {
     "data": {
      "text/plain": [
       "0.5"
      ]
     },
     "execution_count": 12,
     "metadata": {},
     "output_type": "execute_result"
    }
   ],
   "source": [
    "loss(temp_y, y)"
   ]
  },
  {
   "cell_type": "code",
   "execution_count": null,
   "id": "da3bab75-270d-4f31-b993-96314984ca2b",
   "metadata": {},
   "outputs": [],
   "source": []
  }
 ],
 "metadata": {
  "kernelspec": {
   "display_name": "Python 3 (ipykernel)",
   "language": "python",
   "name": "python3"
  },
  "language_info": {
   "codemirror_mode": {
    "name": "ipython",
    "version": 3
   },
   "file_extension": ".py",
   "mimetype": "text/x-python",
   "name": "python",
   "nbconvert_exporter": "python",
   "pygments_lexer": "ipython3",
   "version": "3.11.9"
  }
 },
 "nbformat": 4,
 "nbformat_minor": 5
}
