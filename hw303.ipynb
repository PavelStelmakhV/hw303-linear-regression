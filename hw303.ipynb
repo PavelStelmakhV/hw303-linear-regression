{
 "cells": [
  {
   "cell_type": "code",
   "execution_count": 1,
   "id": "511fd957-2494-42af-9e78-1b819a0d7eaa",
   "metadata": {},
   "outputs": [],
   "source": [
    "import numpy as np"
   ]
  },
  {
   "cell_type": "code",
   "execution_count": 2,
   "id": "685c6700-d910-40db-bc79-a72130d97ef5",
   "metadata": {},
   "outputs": [],
   "source": [
    "def linear_regression(X, y):\n",
    "    \"\"\"\n",
    "    Function linear regression\n",
    "    X - array (nxm) - n objects, m parametrs\n",
    "\n",
    "    returns array m-features and bias\n",
    "    \"\"\"\n",
    "    \n",
    "    X_b = np.hstack((X, np.ones((X.shape[0], 1))))\n",
    "    w = np.matmul(np.linalg.inv(np.matmul(X_b.T, X_b)), np.matmul(X_b.T, y))\n",
    "    # w1 = np.linalg.inv(X_b.T @ X_b) @ X_b.T @ y\n",
    "    return w"
   ]
  },
  {
   "cell_type": "code",
   "execution_count": 11,
   "id": "9ac8c80d-7705-490c-962c-634e36f0333e",
   "metadata": {},
   "outputs": [],
   "source": [
    "def loss(y_pred, y):\n",
    "    \"\"\"\n",
    "    Loss function\n",
    "    return sum(y_pred*y_pred - y*y) / (n*2)\n",
    "    n - len(y)\n",
    "    \"\"\"\n",
    "    return np.sum(np.power(y_pred - y, 2)) / len(y) / 2\n",
    "        "
   ]
  },
  {
   "cell_type": "code",
   "execution_count": 8,
   "id": "a3fe1afa-a908-44ac-9461-0590739ebb56",
   "metadata": {},
   "outputs": [
    {
     "data": {
      "text/plain": [
       "(4,)"
      ]
     },
     "execution_count": 8,
     "metadata": {},
     "output_type": "execute_result"
    }
   ],
   "source": [
    "temp_y = np.array([4, 3, 4, 7])\n",
    "temp_y.shape"
   ]
  },
  {
   "cell_type": "code",
   "execution_count": 5,
   "id": "e5b43a21-7541-421a-b276-b58506a606ea",
   "metadata": {},
   "outputs": [
    {
     "data": {
      "text/plain": [
       "array([[1, 2],\n",
       "       [1, 3],\n",
       "       [1, 4]])"
      ]
     },
     "execution_count": 5,
     "metadata": {},
     "output_type": "execute_result"
    }
   ],
   "source": [
    "temp = np.array([[1, 2],[1, 3], [1, 4]])\n",
    "temp"
   ]
  },
  {
   "cell_type": "code",
   "execution_count": 9,
   "id": "7e089ce2-0939-4ba9-8ef7-d74273c037f9",
   "metadata": {},
   "outputs": [
    {
     "name": "stdout",
     "output_type": "stream",
     "text": [
      "Коэффициенты линейной регрессии: [-0.14285714  0.78571429  1.71428571]\n"
     ]
    }
   ],
   "source": [
    "    X = np.array([[1, 2], [2, 3], [4, 5], [3, 6]])\n",
    "    y = np.array([3, 4, 5, 6])\n",
    "    \n",
    "    # Выполнение линейной регрессии\n",
    "    theta = linear_regression(X, y)\n",
    "    print(\"Коэффициенты линейной регрессии:\", theta)"
   ]
  },
  {
   "cell_type": "code",
   "execution_count": 12,
   "id": "54cb8d13-40ff-4b07-bd47-7b87bce090a2",
   "metadata": {},
   "outputs": [
    {
     "data": {
      "text/plain": [
       "0.5"
      ]
     },
     "execution_count": 12,
     "metadata": {},
     "output_type": "execute_result"
    }
   ],
   "source": [
    "loss(temp_y, y)"
   ]
  },
  {
   "cell_type": "code",
   "execution_count": null,
   "id": "da3bab75-270d-4f31-b993-96314984ca2b",
   "metadata": {},
   "outputs": [],
   "source": []
  }
 ],
 "metadata": {
  "kernelspec": {
   "display_name": "Python 3 (ipykernel)",
   "language": "python",
   "name": "python3"
  },
  "language_info": {
   "codemirror_mode": {
    "name": "ipython",
    "version": 3
   },
   "file_extension": ".py",
   "mimetype": "text/x-python",
   "name": "python",
   "nbconvert_exporter": "python",
   "pygments_lexer": "ipython3",
   "version": "3.11.9"
  }
 },
 "nbformat": 4,
 "nbformat_minor": 5
}
