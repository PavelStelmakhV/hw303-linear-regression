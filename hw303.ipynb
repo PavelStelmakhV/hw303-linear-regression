{
 "cells": [
  {
   "cell_type": "raw",
   "id": "0ae61267-95cd-4e39-ac92-4cdeee8b0d16",
   "metadata": {
    "editable": true,
    "raw_mimetype": "",
    "slideshow": {
     "slide_type": ""
    },
    "tags": []
   },
   "source": [
    "Домашнє завдання\n",
    "Дане домашнє завдання буде повністю пов'язане з лінійною регресією та її реалізацією. Отож розіб'ємо наше домашнє завдання на декілька частин:\n",
    "\n",
    "напишіть функцію гіпотези лінійної регресії у векторному вигляді;\n",
    "створіть функцію для обчислення функції втрат у векторному вигляді;\n",
    "реалізуйте один крок градієнтного спуску;\n",
    "знайдіть найкращі параметри 𝑤⃗w для датасету прогнозуючу ціну на будинок залежно від площі, кількості ванних кімнат та кількості спалень;\n",
    "знайдіть ці ж параметри за допомогою аналітичного рішення;\n",
    "порівняйте отримані результати.\n",
    "\n",
    "Дз повинно бути виконано у Jupyter Nootebook,(або Google Colab) і задеплоїне на Гітхаб у вигляді файлу .ipynb."
   ]
  },
  {
   "cell_type": "code",
   "execution_count": 1,
   "id": "511fd957-2494-42af-9e78-1b819a0d7eaa",
   "metadata": {},
   "outputs": [],
   "source": [
    "import numpy as np\n",
    "import pandas as pd\n",
    "import os\n",
    "import matplotlib.pyplot as plt\n",
    "import seaborn as sns\n",
    "\n",
    "from sklearn import preprocessing\n",
    "from copy import deepcopy"
   ]
  },
  {
   "cell_type": "code",
   "execution_count": 2,
   "id": "3dd1f9d1-23e4-476c-bd11-f5b9b47f75bf",
   "metadata": {},
   "outputs": [],
   "source": [
    "file_name = \"Housing.csv\"\n",
    "path = \".\\data\"\n",
    "path_data = os.path.join(path, file_name)"
   ]
  },
  {
   "cell_type": "code",
   "execution_count": 3,
   "id": "cd1f5f98-e2c5-463b-a152-49f53a4c06dd",
   "metadata": {},
   "outputs": [],
   "source": [
    "housing_data_df  = pd.read_csv(path_data)"
   ]
  },
  {
   "cell_type": "code",
   "execution_count": 4,
   "id": "80e2781c-ea03-4dcc-a09a-d7d883ca5116",
   "metadata": {},
   "outputs": [
    {
     "data": {
      "text/html": [
       "<div>\n",
       "<style scoped>\n",
       "    .dataframe tbody tr th:only-of-type {\n",
       "        vertical-align: middle;\n",
       "    }\n",
       "\n",
       "    .dataframe tbody tr th {\n",
       "        vertical-align: top;\n",
       "    }\n",
       "\n",
       "    .dataframe thead th {\n",
       "        text-align: right;\n",
       "    }\n",
       "</style>\n",
       "<table border=\"1\" class=\"dataframe\">\n",
       "  <thead>\n",
       "    <tr style=\"text-align: right;\">\n",
       "      <th></th>\n",
       "      <th>price</th>\n",
       "      <th>area</th>\n",
       "      <th>bedrooms</th>\n",
       "      <th>bathrooms</th>\n",
       "      <th>stories</th>\n",
       "      <th>mainroad</th>\n",
       "      <th>guestroom</th>\n",
       "      <th>basement</th>\n",
       "      <th>hotwaterheating</th>\n",
       "      <th>airconditioning</th>\n",
       "      <th>parking</th>\n",
       "      <th>prefarea</th>\n",
       "      <th>furnishingstatus</th>\n",
       "    </tr>\n",
       "  </thead>\n",
       "  <tbody>\n",
       "    <tr>\n",
       "      <th>0</th>\n",
       "      <td>13300000</td>\n",
       "      <td>7420</td>\n",
       "      <td>4</td>\n",
       "      <td>2</td>\n",
       "      <td>3</td>\n",
       "      <td>yes</td>\n",
       "      <td>no</td>\n",
       "      <td>no</td>\n",
       "      <td>no</td>\n",
       "      <td>yes</td>\n",
       "      <td>2</td>\n",
       "      <td>yes</td>\n",
       "      <td>furnished</td>\n",
       "    </tr>\n",
       "    <tr>\n",
       "      <th>1</th>\n",
       "      <td>12250000</td>\n",
       "      <td>8960</td>\n",
       "      <td>4</td>\n",
       "      <td>4</td>\n",
       "      <td>4</td>\n",
       "      <td>yes</td>\n",
       "      <td>no</td>\n",
       "      <td>no</td>\n",
       "      <td>no</td>\n",
       "      <td>yes</td>\n",
       "      <td>3</td>\n",
       "      <td>no</td>\n",
       "      <td>furnished</td>\n",
       "    </tr>\n",
       "    <tr>\n",
       "      <th>2</th>\n",
       "      <td>12250000</td>\n",
       "      <td>9960</td>\n",
       "      <td>3</td>\n",
       "      <td>2</td>\n",
       "      <td>2</td>\n",
       "      <td>yes</td>\n",
       "      <td>no</td>\n",
       "      <td>yes</td>\n",
       "      <td>no</td>\n",
       "      <td>no</td>\n",
       "      <td>2</td>\n",
       "      <td>yes</td>\n",
       "      <td>semi-furnished</td>\n",
       "    </tr>\n",
       "    <tr>\n",
       "      <th>3</th>\n",
       "      <td>12215000</td>\n",
       "      <td>7500</td>\n",
       "      <td>4</td>\n",
       "      <td>2</td>\n",
       "      <td>2</td>\n",
       "      <td>yes</td>\n",
       "      <td>no</td>\n",
       "      <td>yes</td>\n",
       "      <td>no</td>\n",
       "      <td>yes</td>\n",
       "      <td>3</td>\n",
       "      <td>yes</td>\n",
       "      <td>furnished</td>\n",
       "    </tr>\n",
       "    <tr>\n",
       "      <th>4</th>\n",
       "      <td>11410000</td>\n",
       "      <td>7420</td>\n",
       "      <td>4</td>\n",
       "      <td>1</td>\n",
       "      <td>2</td>\n",
       "      <td>yes</td>\n",
       "      <td>yes</td>\n",
       "      <td>yes</td>\n",
       "      <td>no</td>\n",
       "      <td>yes</td>\n",
       "      <td>2</td>\n",
       "      <td>no</td>\n",
       "      <td>furnished</td>\n",
       "    </tr>\n",
       "    <tr>\n",
       "      <th>...</th>\n",
       "      <td>...</td>\n",
       "      <td>...</td>\n",
       "      <td>...</td>\n",
       "      <td>...</td>\n",
       "      <td>...</td>\n",
       "      <td>...</td>\n",
       "      <td>...</td>\n",
       "      <td>...</td>\n",
       "      <td>...</td>\n",
       "      <td>...</td>\n",
       "      <td>...</td>\n",
       "      <td>...</td>\n",
       "      <td>...</td>\n",
       "    </tr>\n",
       "    <tr>\n",
       "      <th>540</th>\n",
       "      <td>1820000</td>\n",
       "      <td>3000</td>\n",
       "      <td>2</td>\n",
       "      <td>1</td>\n",
       "      <td>1</td>\n",
       "      <td>yes</td>\n",
       "      <td>no</td>\n",
       "      <td>yes</td>\n",
       "      <td>no</td>\n",
       "      <td>no</td>\n",
       "      <td>2</td>\n",
       "      <td>no</td>\n",
       "      <td>unfurnished</td>\n",
       "    </tr>\n",
       "    <tr>\n",
       "      <th>541</th>\n",
       "      <td>1767150</td>\n",
       "      <td>2400</td>\n",
       "      <td>3</td>\n",
       "      <td>1</td>\n",
       "      <td>1</td>\n",
       "      <td>no</td>\n",
       "      <td>no</td>\n",
       "      <td>no</td>\n",
       "      <td>no</td>\n",
       "      <td>no</td>\n",
       "      <td>0</td>\n",
       "      <td>no</td>\n",
       "      <td>semi-furnished</td>\n",
       "    </tr>\n",
       "    <tr>\n",
       "      <th>542</th>\n",
       "      <td>1750000</td>\n",
       "      <td>3620</td>\n",
       "      <td>2</td>\n",
       "      <td>1</td>\n",
       "      <td>1</td>\n",
       "      <td>yes</td>\n",
       "      <td>no</td>\n",
       "      <td>no</td>\n",
       "      <td>no</td>\n",
       "      <td>no</td>\n",
       "      <td>0</td>\n",
       "      <td>no</td>\n",
       "      <td>unfurnished</td>\n",
       "    </tr>\n",
       "    <tr>\n",
       "      <th>543</th>\n",
       "      <td>1750000</td>\n",
       "      <td>2910</td>\n",
       "      <td>3</td>\n",
       "      <td>1</td>\n",
       "      <td>1</td>\n",
       "      <td>no</td>\n",
       "      <td>no</td>\n",
       "      <td>no</td>\n",
       "      <td>no</td>\n",
       "      <td>no</td>\n",
       "      <td>0</td>\n",
       "      <td>no</td>\n",
       "      <td>furnished</td>\n",
       "    </tr>\n",
       "    <tr>\n",
       "      <th>544</th>\n",
       "      <td>1750000</td>\n",
       "      <td>3850</td>\n",
       "      <td>3</td>\n",
       "      <td>1</td>\n",
       "      <td>2</td>\n",
       "      <td>yes</td>\n",
       "      <td>no</td>\n",
       "      <td>no</td>\n",
       "      <td>no</td>\n",
       "      <td>no</td>\n",
       "      <td>0</td>\n",
       "      <td>no</td>\n",
       "      <td>unfurnished</td>\n",
       "    </tr>\n",
       "  </tbody>\n",
       "</table>\n",
       "<p>545 rows × 13 columns</p>\n",
       "</div>"
      ],
      "text/plain": [
       "        price  area  bedrooms  bathrooms  stories mainroad guestroom basement  \\\n",
       "0    13300000  7420         4          2        3      yes        no       no   \n",
       "1    12250000  8960         4          4        4      yes        no       no   \n",
       "2    12250000  9960         3          2        2      yes        no      yes   \n",
       "3    12215000  7500         4          2        2      yes        no      yes   \n",
       "4    11410000  7420         4          1        2      yes       yes      yes   \n",
       "..        ...   ...       ...        ...      ...      ...       ...      ...   \n",
       "540   1820000  3000         2          1        1      yes        no      yes   \n",
       "541   1767150  2400         3          1        1       no        no       no   \n",
       "542   1750000  3620         2          1        1      yes        no       no   \n",
       "543   1750000  2910         3          1        1       no        no       no   \n",
       "544   1750000  3850         3          1        2      yes        no       no   \n",
       "\n",
       "    hotwaterheating airconditioning  parking prefarea furnishingstatus  \n",
       "0                no             yes        2      yes        furnished  \n",
       "1                no             yes        3       no        furnished  \n",
       "2                no              no        2      yes   semi-furnished  \n",
       "3                no             yes        3      yes        furnished  \n",
       "4                no             yes        2       no        furnished  \n",
       "..              ...             ...      ...      ...              ...  \n",
       "540              no              no        2       no      unfurnished  \n",
       "541              no              no        0       no   semi-furnished  \n",
       "542              no              no        0       no      unfurnished  \n",
       "543              no              no        0       no        furnished  \n",
       "544              no              no        0       no      unfurnished  \n",
       "\n",
       "[545 rows x 13 columns]"
      ]
     },
     "execution_count": 4,
     "metadata": {},
     "output_type": "execute_result"
    }
   ],
   "source": [
    "housing_data_df"
   ]
  },
  {
   "cell_type": "code",
   "execution_count": 5,
   "id": "171a1967-742c-41b4-8e64-3549270a9d92",
   "metadata": {},
   "outputs": [],
   "source": [
    "def linear_regresion(X, w, bias):\n",
    "    \"\"\"\n",
    "    Function linear regression\n",
    "    X - array (nxm) - n objects, m parametrs\n",
    "    w - regression coefficients? m elements\n",
    "    bias - scalar\n",
    "    \n",
    "    return y_pred, n elements\n",
    "    \"\"\"\n",
    "    X_b = np.hstack((X, np.ones((X.shape[0], 1))))\n",
    "    w_b = np.hstack((w, bias))\n",
    "    return np.matmul(X_b, w_b)"
   ]
  },
  {
   "cell_type": "code",
   "execution_count": 6,
   "id": "9ac8c80d-7705-490c-962c-634e36f0333e",
   "metadata": {},
   "outputs": [],
   "source": [
    "def loss(y_pred, y):\n",
    "    \"\"\"\n",
    "    Loss function\n",
    "    return sum(y_pred*y_pred - y*y) / (n*2)\n",
    "    n - len(y)\n",
    "    \"\"\"\n",
    "    return np.sum(np.power(y_pred - y, 2)) / len(y) / 2\n",
    "        "
   ]
  },
  {
   "cell_type": "code",
   "execution_count": 7,
   "id": "b50f328c-77fe-4554-91fa-3bda38fa48b6",
   "metadata": {},
   "outputs": [],
   "source": [
    "def gradient_descent(X, y, w, bias, learning_rate):\n",
    "    \"\"\"\n",
    "    Perfoms one step gradint descent\n",
    "    return w, bias\n",
    "    \"\"\"\n",
    "    X_b = np.hstack((X, np.ones((X.shape[0], 1))))\n",
    "    w_b = np.hstack((w, bias))\n",
    "    \n",
    "    m = len(y)\n",
    "    y_pred = linear_regresion(X, w, bias)\n",
    "    error = y_pred - y\n",
    "    gradient = np.matmul(X_b.T, error) / m\n",
    "    w_b = w_b - learning_rate * gradient\n",
    "    bias = w_b[-1]\n",
    "    w = w_b[:-1]\n",
    "    return w, bias"
   ]
  },
  {
   "cell_type": "code",
   "execution_count": 8,
   "id": "da3bab75-270d-4f31-b993-96314984ca2b",
   "metadata": {
    "editable": true,
    "slideshow": {
     "slide_type": ""
    },
    "tags": []
   },
   "outputs": [],
   "source": [
    "# Create X from columns \"area\", \"bedrooms\", \"bathrooms\"\n",
    "X = housing_data_df[[\"area\", \"bedrooms\", \"bathrooms\"]].to_numpy()"
   ]
  },
  {
   "cell_type": "code",
   "execution_count": 9,
   "id": "6cde2a80-502a-4e90-8210-e82747593c5d",
   "metadata": {},
   "outputs": [],
   "source": [
    "# Scaled X\n",
    "scaler = preprocessing.StandardScaler().fit(X)\n",
    "X_scaled = scaler.transform(X)"
   ]
  },
  {
   "cell_type": "code",
   "execution_count": 10,
   "id": "6195b9cb-683a-4973-b1a3-4be1ad35332f",
   "metadata": {},
   "outputs": [],
   "source": [
    "# Create y from column \"price\"\n",
    "# Create 'w' and 'bias' as random \n",
    "y = housing_data_df[[\"price\"]].to_numpy().reshape(-1,)\n",
    "w = np.random.random(X_scaled.shape[1])\n",
    "bias = np.random.random()"
   ]
  },
  {
   "cell_type": "code",
   "execution_count": 11,
   "id": "d7f14e7b-6749-491d-97e9-25713a064b2d",
   "metadata": {
    "scrolled": true
   },
   "outputs": [
    {
     "name": "stdout",
     "output_type": "stream",
     "text": [
      "[0.38562792 0.12161657 0.81978516] 0.25144486182024994\n",
      "[100163.37691657  68487.64817831  96715.60482806] 476673.1510710179\n"
     ]
    }
   ],
   "source": [
    "# One step gradient descent\n",
    "print (w, bias)\n",
    "w, bias = gradient_descent(X_scaled, y, w, bias, 0.1)\n",
    "print (w, bias)"
   ]
  },
  {
   "cell_type": "code",
   "execution_count": 12,
   "id": "b68775fd-1a9c-47d4-8c6c-aa336e110666",
   "metadata": {
    "editable": true,
    "slideshow": {
     "slide_type": ""
    },
    "tags": []
   },
   "outputs": [
    {
     "name": "stdout",
     "output_type": "stream",
     "text": [
      "Steps:  202  | loss_prev - loss_pres:  0.009521484375\n"
     ]
    },
    {
     "data": {
      "text/plain": [
       "array([ 821214.18698128,  299983.89028455,  695808.18420062,\n",
       "       4766729.24525482])"
      ]
     },
     "execution_count": 12,
     "metadata": {},
     "output_type": "execute_result"
    }
   ],
   "source": [
    "# Calculate w and bias by using the gradient_descent() \n",
    "# while the difference between the loss_pres and the loss_prev is greater then epsilon\n",
    "\n",
    "y_pred = linear_regresion(X_scaled, w, bias)\n",
    "epsilon = 10e-3 \n",
    "loss_pres = loss(y_pred, y)\n",
    "loss_prev = deepcopy(loss_pres) + 10\n",
    "step = 0\n",
    "\n",
    "while (loss_prev - loss_pres) > epsilon:\n",
    "    step += 1\n",
    "    w, bias = gradient_descent(X_scaled, y, w, bias, 0.1)\n",
    "    y_pred = linear_regresion(X_scaled, w, bias)\n",
    "    loss_prev = deepcopy(loss_pres)\n",
    "    loss_pres = loss(y_pred, y)\n",
    "\n",
    "print ('Steps: ', step, ' | loss_prev - loss_pres: ', loss_prev - loss_pres)\n",
    "# print('loss_prev', loss_prev)\n",
    "# print('loss_pres', loss_pres)\n",
    "# print ('(loss_prev - loss_pres) > epsilon:', (loss_prev - loss_pres) > epsilon)\n",
    "# print (loss_prev - loss_pres, epsilon)\n",
    "\n",
    "\n",
    "w_gradient = np.hstack((w, bias))\n",
    "w_gradient"
   ]
  },
  {
   "cell_type": "code",
   "execution_count": 13,
   "id": "685c6700-d910-40db-bc79-a72130d97ef5",
   "metadata": {},
   "outputs": [],
   "source": [
    "def analytic_solution(X, y):\n",
    "    \"\"\"\n",
    "    Function linear regression\n",
    "    X - array (nxm) - n objects, m parametrs\n",
    "    returns array m-features and bias\n",
    "    \"\"\"    \n",
    "    X_b = np.hstack((X, np.ones((X.shape[0], 1))))\n",
    "    w = np.matmul(np.linalg.inv(np.matmul(X_b.T, X_b)), np.matmul(X_b.T, y))\n",
    "    # w1 = np.linalg.inv(X_b.T @ X_b) @ X_b.T @ y\n",
    "    return w"
   ]
  },
  {
   "cell_type": "code",
   "execution_count": 14,
   "id": "23932398-6add-4f88-b950-0dcfc320bcb5",
   "metadata": {},
   "outputs": [
    {
     "data": {
      "text/plain": [
       "array([ 821214.14349519,  299983.57107963,  695808.52272538,\n",
       "       4766729.24770642])"
      ]
     },
     "execution_count": 14,
     "metadata": {},
     "output_type": "execute_result"
    }
   ],
   "source": [
    "w_analytic = analytic_solution(X_scaled, y)\n",
    "w_analytic"
   ]
  },
  {
   "cell_type": "code",
   "execution_count": 15,
   "id": "0847fb2c-16a2-4ea1-8dd0-fe4e8c4f681e",
   "metadata": {},
   "outputs": [
    {
     "data": {
      "text/plain": [
       "array([1.00000005, 1.00000106, 0.99999951, 1.        ])"
      ]
     },
     "execution_count": 15,
     "metadata": {},
     "output_type": "execute_result"
    }
   ],
   "source": [
    "# difference w_analytic vs w_gradient\n",
    "diff = w_gradient / w_analytic\n",
    "diff"
   ]
  },
  {
   "cell_type": "markdown",
   "id": "fb39a466-143c-4307-9e7c-7edc5b8ce29e",
   "metadata": {},
   "source": [
    "## The difference between the results does not exceed 10e-5"
   ]
  }
 ],
 "metadata": {
  "kernelspec": {
   "display_name": "Python 3 (ipykernel)",
   "language": "python",
   "name": "python3"
  },
  "language_info": {
   "codemirror_mode": {
    "name": "ipython",
    "version": 3
   },
   "file_extension": ".py",
   "mimetype": "text/x-python",
   "name": "python",
   "nbconvert_exporter": "python",
   "pygments_lexer": "ipython3",
   "version": "3.11.9"
  }
 },
 "nbformat": 4,
 "nbformat_minor": 5
}
